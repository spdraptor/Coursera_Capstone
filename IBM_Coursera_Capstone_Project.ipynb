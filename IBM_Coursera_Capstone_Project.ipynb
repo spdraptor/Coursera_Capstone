{
  "nbformat": 4,
  "nbformat_minor": 0,
  "metadata": {
    "colab": {
      "name": "IBM Coursera_Capstone Project.ipynb",
      "provenance": []
    },
    "kernelspec": {
      "name": "python3",
      "display_name": "Python 3"
    },
    "language_info": {
      "name": "python"
    }
  },
  "cells": [
    {
      "cell_type": "markdown",
      "metadata": {
        "id": "mHUQw9H79gSs"
      },
      "source": [
        "# **IBM Coursera_Capstone Project**\n",
        "\n",
        "---\n",
        "\n",
        "This is my Capstone Project  assigned by Coursera IBM course\n"
      ]
    },
    {
      "cell_type": "code",
      "metadata": {
        "id": "7x1iKyo39bH2"
      },
      "source": [
        "#importing reqired packages\n",
        "\n",
        "import pandas as pd\n",
        "import numpy as np"
      ],
      "execution_count": 1,
      "outputs": []
    },
    {
      "cell_type": "code",
      "metadata": {
        "colab": {
          "base_uri": "https://localhost:8080/"
        },
        "id": "tl41ZlTf-vof",
        "outputId": "c78f7cbb-f099-42d9-c7ae-7f659d756cfb"
      },
      "source": [
        "print('Hello Capstone Project Course!')"
      ],
      "execution_count": 3,
      "outputs": [
        {
          "output_type": "stream",
          "text": [
            "Hello Capstone Project Course!\n"
          ],
          "name": "stdout"
        }
      ]
    }
  ]
}