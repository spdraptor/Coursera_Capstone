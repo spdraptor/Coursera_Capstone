{
  "nbformat": 4,
  "nbformat_minor": 0,
  "metadata": {
    "colab": {
      "name": "neighborhoods in Toronto(w3-Part1).ipynb",
      "provenance": [],
      "collapsed_sections": [],
      "authorship_tag": "ABX9TyM4hCC3Zdyz3xIVAGay6Jsr",
      "include_colab_link": true
    },
    "kernelspec": {
      "name": "python3",
      "display_name": "Python 3"
    },
    "language_info": {
      "name": "python"
    }
  },
  "cells": [
    {
      "cell_type": "markdown",
      "metadata": {
        "id": "view-in-github",
        "colab_type": "text"
      },
      "source": [
        "<a href=\"https://colab.research.google.com/github/spdraptor/Coursera_Capstone/blob/main/neighborhoods_in_Toronto(w3_Part1).ipynb\" target=\"_parent\"><img src=\"https://colab.research.google.com/assets/colab-badge.svg\" alt=\"Open In Colab\"/></a>"
      ]
    },
    {
      "cell_type": "markdown",
      "metadata": {
        "id": "6ok-_BmGg8hK"
      },
      "source": [
        "## **IBM coursera neighborhoods in Toronto**"
      ]
    },
    {
      "cell_type": "code",
      "metadata": {
        "colab": {
          "base_uri": "https://localhost:8080/"
        },
        "id": "FqqNj-eKgdrz",
        "outputId": "ac9f4079-de9c-49d2-ba2f-5f3a4b00ade0"
      },
      "source": [
        "# Package Instalation\n",
        "!pip install beautifulsoup4"
      ],
      "execution_count": 1,
      "outputs": [
        {
          "output_type": "stream",
          "text": [
            "Requirement already satisfied: beautifulsoup4 in /usr/local/lib/python3.7/dist-packages (4.6.3)\n"
          ],
          "name": "stdout"
        }
      ]
    },
    {
      "cell_type": "markdown",
      "metadata": {
        "id": "zCv_itZ83s-q"
      },
      "source": [
        " **import all packages**"
      ]
    },
    {
      "cell_type": "code",
      "metadata": {
        "id": "ZYpHM0qDhL6L"
      },
      "source": [
        "from urllib.request import urlopen\n",
        "from bs4 import BeautifulSoup\n",
        "import pandas as pd"
      ],
      "execution_count": 2,
      "outputs": []
    },
    {
      "cell_type": "markdown",
      "metadata": {
        "id": "Pl0nLL2434f-"
      },
      "source": [
        "**Parse the Wiki link to extract table data**"
      ]
    },
    {
      "cell_type": "code",
      "metadata": {
        "id": "ZospesgUlICZ"
      },
      "source": [
        "table_contents=[]\n",
        "page=urlopen('https://en.wikipedia.org/wiki/List_of_postal_codes_of_Canada:_M').read()\n",
        "soup = BeautifulSoup(page)\n",
        "table=soup.find('table')\n",
        "for row in table.findAll('td'):\n",
        "  cell = {}\n",
        "  if row.span.text=='Not assigned':\n",
        "      pass\n",
        "  else:\n",
        "      cell['PostalCode'] = row.p.text[:3]\n",
        "      cell['Borough'] = (row.span.text).split('(')[0]\n",
        "      cell['Neighborhood'] = (((((row.span.text).split('(')[1]).strip(')')).replace(' /',',')).replace(')',' ')).strip(' ')\n",
        "      table_contents.append(cell)"
      ],
      "execution_count": 3,
      "outputs": []
    },
    {
      "cell_type": "markdown",
      "metadata": {
        "id": "36aGpalg4ZNY"
      },
      "source": [
        "**Dispaly and check the data**"
      ]
    },
    {
      "cell_type": "code",
      "metadata": {
        "id": "rbjobRYLlxOl",
        "colab": {
          "base_uri": "https://localhost:8080/"
        },
        "outputId": "96be647d-4b7d-49bb-d10d-1da472015edf"
      },
      "source": [
        "table_contents"
      ],
      "execution_count": 4,
      "outputs": [
        {
          "output_type": "execute_result",
          "data": {
            "text/plain": [
              "[{'Borough': 'North York', 'Neighborhood': 'Parkwoods', 'PostalCode': 'M3A'},\n",
              " {'Borough': 'North York',\n",
              "  'Neighborhood': 'Victoria Village',\n",
              "  'PostalCode': 'M4A'},\n",
              " {'Borough': 'Downtown Toronto',\n",
              "  'Neighborhood': 'Regent Park, Harbourfront',\n",
              "  'PostalCode': 'M5A'},\n",
              " {'Borough': 'North York',\n",
              "  'Neighborhood': 'Lawrence Manor, Lawrence Heights',\n",
              "  'PostalCode': 'M6A'},\n",
              " {'Borough': \"Queen's Park\",\n",
              "  'Neighborhood': 'Ontario Provincial Government',\n",
              "  'PostalCode': 'M7A'},\n",
              " {'Borough': 'Etobicoke',\n",
              "  'Neighborhood': 'Islington Avenue',\n",
              "  'PostalCode': 'M9A'},\n",
              " {'Borough': 'Scarborough',\n",
              "  'Neighborhood': 'Malvern, Rouge',\n",
              "  'PostalCode': 'M1B'},\n",
              " {'Borough': 'North York',\n",
              "  'Neighborhood': 'Don Mills North',\n",
              "  'PostalCode': 'M3B'},\n",
              " {'Borough': 'East York',\n",
              "  'Neighborhood': 'Parkview Hill, Woodbine Gardens',\n",
              "  'PostalCode': 'M4B'},\n",
              " {'Borough': 'Downtown Toronto',\n",
              "  'Neighborhood': 'Garden District, Ryerson',\n",
              "  'PostalCode': 'M5B'},\n",
              " {'Borough': 'North York', 'Neighborhood': 'Glencairn', 'PostalCode': 'M6B'},\n",
              " {'Borough': 'Etobicoke',\n",
              "  'Neighborhood': 'West Deane Park, Princess Gardens, Martin Grove, Islington, Cloverdale',\n",
              "  'PostalCode': 'M9B'},\n",
              " {'Borough': 'Scarborough',\n",
              "  'Neighborhood': 'Rouge Hill, Port Union, Highland Creek',\n",
              "  'PostalCode': 'M1C'},\n",
              " {'Borough': 'North York',\n",
              "  'Neighborhood': 'Don Mills South',\n",
              "  'PostalCode': 'M3C'},\n",
              " {'Borough': 'East York',\n",
              "  'Neighborhood': 'Woodbine Heights',\n",
              "  'PostalCode': 'M4C'},\n",
              " {'Borough': 'Downtown Toronto',\n",
              "  'Neighborhood': 'St. James Town',\n",
              "  'PostalCode': 'M5C'},\n",
              " {'Borough': 'York',\n",
              "  'Neighborhood': 'Humewood-Cedarvale',\n",
              "  'PostalCode': 'M6C'},\n",
              " {'Borough': 'Etobicoke',\n",
              "  'Neighborhood': 'Eringate, Bloordale Gardens, Old Burnhamthorpe, Markland Wood',\n",
              "  'PostalCode': 'M9C'},\n",
              " {'Borough': 'Scarborough',\n",
              "  'Neighborhood': 'Guildwood, Morningside, West Hill',\n",
              "  'PostalCode': 'M1E'},\n",
              " {'Borough': 'East Toronto',\n",
              "  'Neighborhood': 'The Beaches',\n",
              "  'PostalCode': 'M4E'},\n",
              " {'Borough': 'Downtown Toronto',\n",
              "  'Neighborhood': 'Berczy Park',\n",
              "  'PostalCode': 'M5E'},\n",
              " {'Borough': 'York',\n",
              "  'Neighborhood': 'Caledonia-Fairbanks',\n",
              "  'PostalCode': 'M6E'},\n",
              " {'Borough': 'Scarborough', 'Neighborhood': 'Woburn', 'PostalCode': 'M1G'},\n",
              " {'Borough': 'East York', 'Neighborhood': 'Leaside', 'PostalCode': 'M4G'},\n",
              " {'Borough': 'Downtown Toronto',\n",
              "  'Neighborhood': 'Central Bay Street',\n",
              "  'PostalCode': 'M5G'},\n",
              " {'Borough': 'Downtown Toronto',\n",
              "  'Neighborhood': 'Christie',\n",
              "  'PostalCode': 'M6G'},\n",
              " {'Borough': 'Scarborough', 'Neighborhood': 'Cedarbrae', 'PostalCode': 'M1H'},\n",
              " {'Borough': 'North York',\n",
              "  'Neighborhood': 'Hillcrest Village',\n",
              "  'PostalCode': 'M2H'},\n",
              " {'Borough': 'North York',\n",
              "  'Neighborhood': 'Bathurst Manor, Wilson Heights, Downsview North',\n",
              "  'PostalCode': 'M3H'},\n",
              " {'Borough': 'East York',\n",
              "  'Neighborhood': 'Thorncliffe Park',\n",
              "  'PostalCode': 'M4H'},\n",
              " {'Borough': 'Downtown Toronto',\n",
              "  'Neighborhood': 'Richmond, Adelaide, King',\n",
              "  'PostalCode': 'M5H'},\n",
              " {'Borough': 'West Toronto',\n",
              "  'Neighborhood': 'Dufferin, Dovercourt Village',\n",
              "  'PostalCode': 'M6H'},\n",
              " {'Borough': 'Scarborough',\n",
              "  'Neighborhood': 'Scarborough Village',\n",
              "  'PostalCode': 'M1J'},\n",
              " {'Borough': 'North York',\n",
              "  'Neighborhood': 'Fairview, Henry Farm, Oriole',\n",
              "  'PostalCode': 'M2J'},\n",
              " {'Borough': 'North York',\n",
              "  'Neighborhood': 'Northwood Park, York University',\n",
              "  'PostalCode': 'M3J'},\n",
              " {'Borough': 'East YorkEast Toronto',\n",
              "  'Neighborhood': 'The Danforth  East',\n",
              "  'PostalCode': 'M4J'},\n",
              " {'Borough': 'Downtown Toronto',\n",
              "  'Neighborhood': 'Harbourfront East, Union Station, Toronto Islands',\n",
              "  'PostalCode': 'M5J'},\n",
              " {'Borough': 'West Toronto',\n",
              "  'Neighborhood': 'Little Portugal, Trinity',\n",
              "  'PostalCode': 'M6J'},\n",
              " {'Borough': 'Scarborough',\n",
              "  'Neighborhood': 'Kennedy Park, Ionview, East Birchmount Park',\n",
              "  'PostalCode': 'M1K'},\n",
              " {'Borough': 'North York',\n",
              "  'Neighborhood': 'Bayview Village',\n",
              "  'PostalCode': 'M2K'},\n",
              " {'Borough': 'North York',\n",
              "  'Neighborhood': 'Downsview East',\n",
              "  'PostalCode': 'M3K'},\n",
              " {'Borough': 'East Toronto',\n",
              "  'Neighborhood': 'The Danforth West, Riverdale',\n",
              "  'PostalCode': 'M4K'},\n",
              " {'Borough': 'Downtown Toronto',\n",
              "  'Neighborhood': 'Toronto Dominion Centre, Design Exchange',\n",
              "  'PostalCode': 'M5K'},\n",
              " {'Borough': 'West Toronto',\n",
              "  'Neighborhood': 'Brockton, Parkdale Village, Exhibition Place',\n",
              "  'PostalCode': 'M6K'},\n",
              " {'Borough': 'Scarborough',\n",
              "  'Neighborhood': 'Golden Mile, Clairlea, Oakridge',\n",
              "  'PostalCode': 'M1L'},\n",
              " {'Borough': 'North York',\n",
              "  'Neighborhood': 'York Mills, Silver Hills',\n",
              "  'PostalCode': 'M2L'},\n",
              " {'Borough': 'North York',\n",
              "  'Neighborhood': 'Downsview West',\n",
              "  'PostalCode': 'M3L'},\n",
              " {'Borough': 'East Toronto',\n",
              "  'Neighborhood': 'India Bazaar, The Beaches West',\n",
              "  'PostalCode': 'M4L'},\n",
              " {'Borough': 'Downtown Toronto',\n",
              "  'Neighborhood': 'Commerce Court, Victoria Hotel',\n",
              "  'PostalCode': 'M5L'},\n",
              " {'Borough': 'North York',\n",
              "  'Neighborhood': 'North Park, Maple Leaf Park, Upwood Park',\n",
              "  'PostalCode': 'M6L'},\n",
              " {'Borough': 'North York',\n",
              "  'Neighborhood': 'Humber Summit',\n",
              "  'PostalCode': 'M9L'},\n",
              " {'Borough': 'Scarborough',\n",
              "  'Neighborhood': 'Cliffside, Cliffcrest, Scarborough Village West',\n",
              "  'PostalCode': 'M1M'},\n",
              " {'Borough': 'North York',\n",
              "  'Neighborhood': 'Willowdale, Newtonbrook',\n",
              "  'PostalCode': 'M2M'},\n",
              " {'Borough': 'North York',\n",
              "  'Neighborhood': 'Downsview Central',\n",
              "  'PostalCode': 'M3M'},\n",
              " {'Borough': 'East Toronto',\n",
              "  'Neighborhood': 'Studio District',\n",
              "  'PostalCode': 'M4M'},\n",
              " {'Borough': 'North York',\n",
              "  'Neighborhood': 'Bedford Park, Lawrence Manor East',\n",
              "  'PostalCode': 'M5M'},\n",
              " {'Borough': 'York',\n",
              "  'Neighborhood': 'Del Ray, Mount Dennis, Keelsdale and Silverthorn',\n",
              "  'PostalCode': 'M6M'},\n",
              " {'Borough': 'North York',\n",
              "  'Neighborhood': 'Humberlea, Emery',\n",
              "  'PostalCode': 'M9M'},\n",
              " {'Borough': 'Scarborough',\n",
              "  'Neighborhood': 'Birch Cliff, Cliffside West',\n",
              "  'PostalCode': 'M1N'},\n",
              " {'Borough': 'North York',\n",
              "  'Neighborhood': 'Willowdale South',\n",
              "  'PostalCode': 'M2N'},\n",
              " {'Borough': 'North York',\n",
              "  'Neighborhood': 'Downsview Northwest',\n",
              "  'PostalCode': 'M3N'},\n",
              " {'Borough': 'Central Toronto',\n",
              "  'Neighborhood': 'Lawrence Park',\n",
              "  'PostalCode': 'M4N'},\n",
              " {'Borough': 'Central Toronto',\n",
              "  'Neighborhood': 'Roselawn',\n",
              "  'PostalCode': 'M5N'},\n",
              " {'Borough': 'York',\n",
              "  'Neighborhood': 'Runnymede, The Junction North',\n",
              "  'PostalCode': 'M6N'},\n",
              " {'Borough': 'York', 'Neighborhood': 'Weston', 'PostalCode': 'M9N'},\n",
              " {'Borough': 'Scarborough',\n",
              "  'Neighborhood': 'Dorset Park, Wexford Heights, Scarborough Town Centre',\n",
              "  'PostalCode': 'M1P'},\n",
              " {'Borough': 'North York',\n",
              "  'Neighborhood': 'York Mills West',\n",
              "  'PostalCode': 'M2P'},\n",
              " {'Borough': 'Central Toronto',\n",
              "  'Neighborhood': 'Davisville North',\n",
              "  'PostalCode': 'M4P'},\n",
              " {'Borough': 'Central Toronto',\n",
              "  'Neighborhood': 'Forest Hill North & West',\n",
              "  'PostalCode': 'M5P'},\n",
              " {'Borough': 'West Toronto',\n",
              "  'Neighborhood': 'High Park, The Junction South',\n",
              "  'PostalCode': 'M6P'},\n",
              " {'Borough': 'Etobicoke', 'Neighborhood': 'Westmount', 'PostalCode': 'M9P'},\n",
              " {'Borough': 'Scarborough',\n",
              "  'Neighborhood': 'Wexford, Maryvale',\n",
              "  'PostalCode': 'M1R'},\n",
              " {'Borough': 'North York',\n",
              "  'Neighborhood': 'Willowdale West',\n",
              "  'PostalCode': 'M2R'},\n",
              " {'Borough': 'Central Toronto',\n",
              "  'Neighborhood': 'North Toronto West',\n",
              "  'PostalCode': 'M4R'},\n",
              " {'Borough': 'Central Toronto',\n",
              "  'Neighborhood': 'The Annex, North Midtown, Yorkville',\n",
              "  'PostalCode': 'M5R'},\n",
              " {'Borough': 'West Toronto',\n",
              "  'Neighborhood': 'Parkdale, Roncesvalles',\n",
              "  'PostalCode': 'M6R'},\n",
              " {'Borough': 'MississaugaCanada Post Gateway Processing Centre',\n",
              "  'Neighborhood': 'Enclave of L4W',\n",
              "  'PostalCode': 'M7R'},\n",
              " {'Borough': 'Etobicoke',\n",
              "  'Neighborhood': 'Kingsview Village, St. Phillips, Martin Grove Gardens, Richview Gardens',\n",
              "  'PostalCode': 'M9R'},\n",
              " {'Borough': 'Scarborough', 'Neighborhood': 'Agincourt', 'PostalCode': 'M1S'},\n",
              " {'Borough': 'Central Toronto',\n",
              "  'Neighborhood': 'Davisville',\n",
              "  'PostalCode': 'M4S'},\n",
              " {'Borough': 'Downtown Toronto',\n",
              "  'Neighborhood': 'University of Toronto, Harbord',\n",
              "  'PostalCode': 'M5S'},\n",
              " {'Borough': 'West Toronto',\n",
              "  'Neighborhood': 'Runnymede, Swansea',\n",
              "  'PostalCode': 'M6S'},\n",
              " {'Borough': 'Scarborough',\n",
              "  'Neighborhood': \"Clarks Corners, Tam O'Shanter, Sullivan\",\n",
              "  'PostalCode': 'M1T'},\n",
              " {'Borough': 'Central Toronto',\n",
              "  'Neighborhood': 'Moore Park, Summerhill East',\n",
              "  'PostalCode': 'M4T'},\n",
              " {'Borough': 'Downtown Toronto',\n",
              "  'Neighborhood': 'Kensington Market, Chinatown, Grange Park',\n",
              "  'PostalCode': 'M5T'},\n",
              " {'Borough': 'Scarborough',\n",
              "  'Neighborhood': \"Milliken, Agincourt North, Steeles East, L'Amoreaux East\",\n",
              "  'PostalCode': 'M1V'},\n",
              " {'Borough': 'Central Toronto',\n",
              "  'Neighborhood': 'Summerhill West, Rathnelly, South Hill, Forest Hill SE, Deer Park',\n",
              "  'PostalCode': 'M4V'},\n",
              " {'Borough': 'Downtown Toronto',\n",
              "  'Neighborhood': 'CN Tower, King and Spadina, Railway Lands, Harbourfront West, Bathurst Quay, South Niagara, Island airport',\n",
              "  'PostalCode': 'M5V'},\n",
              " {'Borough': 'Etobicoke',\n",
              "  'Neighborhood': 'New Toronto, Mimico South, Humber Bay Shores',\n",
              "  'PostalCode': 'M8V'},\n",
              " {'Borough': 'Etobicoke',\n",
              "  'Neighborhood': 'South Steeles, Silverstone, Humbergate, Jamestown, Mount Olive, Beaumond Heights, Thistletown, Albion Gardens',\n",
              "  'PostalCode': 'M9V'},\n",
              " {'Borough': 'Scarborough',\n",
              "  'Neighborhood': \"Steeles West, L'Amoreaux West\",\n",
              "  'PostalCode': 'M1W'},\n",
              " {'Borough': 'Downtown Toronto',\n",
              "  'Neighborhood': 'Rosedale',\n",
              "  'PostalCode': 'M4W'},\n",
              " {'Borough': 'Downtown TorontoStn A PO Boxes25 The Esplanade',\n",
              "  'Neighborhood': 'Enclave of M5E',\n",
              "  'PostalCode': 'M5W'},\n",
              " {'Borough': 'Etobicoke',\n",
              "  'Neighborhood': 'Alderwood, Long Branch',\n",
              "  'PostalCode': 'M8W'},\n",
              " {'Borough': 'EtobicokeNorthwest',\n",
              "  'Neighborhood': 'Clairville, Humberwood, Woodbine Downs, West Humber, Kipling Heights, Rexdale, Elms, Tandridge, Old Rexdale',\n",
              "  'PostalCode': 'M9W'},\n",
              " {'Borough': 'Scarborough',\n",
              "  'Neighborhood': 'Upper Rouge',\n",
              "  'PostalCode': 'M1X'},\n",
              " {'Borough': 'Downtown Toronto',\n",
              "  'Neighborhood': 'St. James Town, Cabbagetown',\n",
              "  'PostalCode': 'M4X'},\n",
              " {'Borough': 'Downtown Toronto',\n",
              "  'Neighborhood': 'First Canadian Place, Underground city',\n",
              "  'PostalCode': 'M5X'},\n",
              " {'Borough': 'Etobicoke',\n",
              "  'Neighborhood': 'The Kingsway, Montgomery Road, Old Mill North',\n",
              "  'PostalCode': 'M8X'},\n",
              " {'Borough': 'Downtown Toronto',\n",
              "  'Neighborhood': 'Church and Wellesley',\n",
              "  'PostalCode': 'M4Y'},\n",
              " {'Borough': 'East TorontoBusiness reply mail Processing Centre969 Eastern',\n",
              "  'Neighborhood': 'Enclave of M4L',\n",
              "  'PostalCode': 'M7Y'},\n",
              " {'Borough': 'Etobicoke',\n",
              "  'Neighborhood': \"Old Mill South, King's Mill Park, Sunnylea, Humber Bay, Mimico NE, The Queensway East, Royal York South East, Kingsway Park South East\",\n",
              "  'PostalCode': 'M8Y'},\n",
              " {'Borough': 'Etobicoke',\n",
              "  'Neighborhood': 'Mimico NW, The Queensway West, South of Bloor, Kingsway Park South West, Royal York South West',\n",
              "  'PostalCode': 'M8Z'}]"
            ]
          },
          "metadata": {
            "tags": []
          },
          "execution_count": 4
        }
      ]
    },
    {
      "cell_type": "markdown",
      "metadata": {
        "id": "dTAGKQur66YA"
      },
      "source": [
        "**Convert the extracted data in DataFrame**"
      ]
    },
    {
      "cell_type": "code",
      "metadata": {
        "colab": {
          "base_uri": "https://localhost:8080/",
          "height": 402
        },
        "id": "pi30b4rb3niG",
        "outputId": "dc384aad-9393-48e6-bf02-5380869d8eba"
      },
      "source": [
        "df=pd.DataFrame(table_contents)\n",
        "df"
      ],
      "execution_count": 5,
      "outputs": [
        {
          "output_type": "execute_result",
          "data": {
            "text/html": [
              "<div>\n",
              "<style scoped>\n",
              "    .dataframe tbody tr th:only-of-type {\n",
              "        vertical-align: middle;\n",
              "    }\n",
              "\n",
              "    .dataframe tbody tr th {\n",
              "        vertical-align: top;\n",
              "    }\n",
              "\n",
              "    .dataframe thead th {\n",
              "        text-align: right;\n",
              "    }\n",
              "</style>\n",
              "<table border=\"1\" class=\"dataframe\">\n",
              "  <thead>\n",
              "    <tr style=\"text-align: right;\">\n",
              "      <th></th>\n",
              "      <th>PostalCode</th>\n",
              "      <th>Borough</th>\n",
              "      <th>Neighborhood</th>\n",
              "    </tr>\n",
              "  </thead>\n",
              "  <tbody>\n",
              "    <tr>\n",
              "      <th>0</th>\n",
              "      <td>M3A</td>\n",
              "      <td>North York</td>\n",
              "      <td>Parkwoods</td>\n",
              "    </tr>\n",
              "    <tr>\n",
              "      <th>1</th>\n",
              "      <td>M4A</td>\n",
              "      <td>North York</td>\n",
              "      <td>Victoria Village</td>\n",
              "    </tr>\n",
              "    <tr>\n",
              "      <th>2</th>\n",
              "      <td>M5A</td>\n",
              "      <td>Downtown Toronto</td>\n",
              "      <td>Regent Park, Harbourfront</td>\n",
              "    </tr>\n",
              "    <tr>\n",
              "      <th>3</th>\n",
              "      <td>M6A</td>\n",
              "      <td>North York</td>\n",
              "      <td>Lawrence Manor, Lawrence Heights</td>\n",
              "    </tr>\n",
              "    <tr>\n",
              "      <th>4</th>\n",
              "      <td>M7A</td>\n",
              "      <td>Queen's Park</td>\n",
              "      <td>Ontario Provincial Government</td>\n",
              "    </tr>\n",
              "    <tr>\n",
              "      <th>...</th>\n",
              "      <td>...</td>\n",
              "      <td>...</td>\n",
              "      <td>...</td>\n",
              "    </tr>\n",
              "    <tr>\n",
              "      <th>98</th>\n",
              "      <td>M8X</td>\n",
              "      <td>Etobicoke</td>\n",
              "      <td>The Kingsway, Montgomery Road, Old Mill North</td>\n",
              "    </tr>\n",
              "    <tr>\n",
              "      <th>99</th>\n",
              "      <td>M4Y</td>\n",
              "      <td>Downtown Toronto</td>\n",
              "      <td>Church and Wellesley</td>\n",
              "    </tr>\n",
              "    <tr>\n",
              "      <th>100</th>\n",
              "      <td>M7Y</td>\n",
              "      <td>East TorontoBusiness reply mail Processing Cen...</td>\n",
              "      <td>Enclave of M4L</td>\n",
              "    </tr>\n",
              "    <tr>\n",
              "      <th>101</th>\n",
              "      <td>M8Y</td>\n",
              "      <td>Etobicoke</td>\n",
              "      <td>Old Mill South, King's Mill Park, Sunnylea, Hu...</td>\n",
              "    </tr>\n",
              "    <tr>\n",
              "      <th>102</th>\n",
              "      <td>M8Z</td>\n",
              "      <td>Etobicoke</td>\n",
              "      <td>Mimico NW, The Queensway West, South of Bloor,...</td>\n",
              "    </tr>\n",
              "  </tbody>\n",
              "</table>\n",
              "<p>103 rows × 3 columns</p>\n",
              "</div>"
            ],
            "text/plain": [
              "    PostalCode  ...                                       Neighborhood\n",
              "0          M3A  ...                                          Parkwoods\n",
              "1          M4A  ...                                   Victoria Village\n",
              "2          M5A  ...                          Regent Park, Harbourfront\n",
              "3          M6A  ...                   Lawrence Manor, Lawrence Heights\n",
              "4          M7A  ...                      Ontario Provincial Government\n",
              "..         ...  ...                                                ...\n",
              "98         M8X  ...      The Kingsway, Montgomery Road, Old Mill North\n",
              "99         M4Y  ...                               Church and Wellesley\n",
              "100        M7Y  ...                                     Enclave of M4L\n",
              "101        M8Y  ...  Old Mill South, King's Mill Park, Sunnylea, Hu...\n",
              "102        M8Z  ...  Mimico NW, The Queensway West, South of Bloor,...\n",
              "\n",
              "[103 rows x 3 columns]"
            ]
          },
          "metadata": {
            "tags": []
          },
          "execution_count": 5
        }
      ]
    },
    {
      "cell_type": "markdown",
      "metadata": {
        "id": "4Glp6HQm7GCQ"
      },
      "source": [
        "**Find the shape or the data size**"
      ]
    },
    {
      "cell_type": "code",
      "metadata": {
        "colab": {
          "base_uri": "https://localhost:8080/"
        },
        "id": "GJmpURQ56Q_n",
        "outputId": "dacb24a1-7918-4956-df95-7c635bb6850b"
      },
      "source": [
        "df.shape"
      ],
      "execution_count": 6,
      "outputs": [
        {
          "output_type": "execute_result",
          "data": {
            "text/plain": [
              "(103, 3)"
            ]
          },
          "metadata": {
            "tags": []
          },
          "execution_count": 6
        }
      ]
    }
  ]
}